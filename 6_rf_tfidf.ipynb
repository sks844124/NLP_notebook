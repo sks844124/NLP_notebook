{
 "cells": [
  {
   "cell_type": "code",
   "execution_count": 1,
   "id": "ae9ca374",
   "metadata": {},
   "outputs": [],
   "source": [
    "import pandas as pd\n",
    "import numpy as np\n",
    "from sklearn.ensemble import RandomForestClassifier\n",
    "from sklearn.model_selection import train_test_split\n",
    "from sklearn.feature_extraction.text import CountVectorizer, TfidfTransformer\n",
    "from sklearn.pipeline import Pipeline\n",
    "from sklearn.preprocessing import LabelEncoder\n",
    "from sklearn.metrics import classification_report, plot_confusion_matrix\n",
    "import matplotlib.pyplot as plt\n",
    "%matplotlib inline\n",
    "import ast\n",
    "from sklearn.metrics import precision_recall_curve, auc\n",
    "from sklearn.metrics import accuracy_score, f1_score, recall_score\n",
    "from sklearn.preprocessing import LabelBinarizer\n",
    "from nltk import word_tokenize          \n",
    "from nltk.stem import WordNetLemmatizer\n",
    "from nltk.corpus import stopwords\n",
    "import model_helper_functions\n",
    "from sklearn.model_selection import GridSearchCV\n",
    "import pickle\n",
    "import os"
   ]
  },
  {
   "cell_type": "code",
   "execution_count": 2,
   "id": "ed166335",
   "metadata": {},
   "outputs": [],
   "source": [
    "DATA_PATH = r\"C:\\Users\\SHUBHAM KUMAR SINGH\\Desktop\\data\"\n",
    "PRE_PROCESSED_DATA_FILE_NAME = 'news_dataset_pre_processed.csv'\n",
    "RANDOM_STATE = 42\n",
    "pd.options.display.max_seq_items = 20\n",
    "pd.options.display.max_rows = 50"
   ]
  },
  {
   "cell_type": "code",
   "execution_count": 33,
   "id": "93d36a05",
   "metadata": {},
   "outputs": [],
   "source": [
    "SAVE_MODEL = True\n",
    "\n",
    "MODEL_PATH = r\"C:\\Users\\SHUBHAM KUMAR SINGH\\Desktop\\data\"\n",
    "MODEL_FILE_NAME = 'rf_tfidf_model.sav'"
   ]
  },
  {
   "cell_type": "code",
   "execution_count": 4,
   "id": "c2b500fc",
   "metadata": {},
   "outputs": [],
   "source": [
    "df = pd.read_csv(r\"C:\\Users\\SHUBHAM KUMAR SINGH\\Desktop\\data\\datanews_dataset_pre_processed.csv\", \n",
    "                 low_memory = False, \n",
    "                 usecols = ['title', 'text', 'label', 'clean_text_tokens', 'clean_title_tokens'])"
   ]
  },
  {
   "cell_type": "code",
   "execution_count": 5,
   "id": "c07ca5e4",
   "metadata": {},
   "outputs": [],
   "source": [
    "df.clean_text_tokens = df.clean_text_tokens.map(ast.literal_eval)\n",
    "df.clean_title_tokens = df.clean_title_tokens.map(ast.literal_eval)"
   ]
  },
  {
   "cell_type": "code",
   "execution_count": 6,
   "id": "2bb9c9ca",
   "metadata": {},
   "outputs": [
    {
     "data": {
      "text/html": [
       "<div>\n",
       "<style scoped>\n",
       "    .dataframe tbody tr th:only-of-type {\n",
       "        vertical-align: middle;\n",
       "    }\n",
       "\n",
       "    .dataframe tbody tr th {\n",
       "        vertical-align: top;\n",
       "    }\n",
       "\n",
       "    .dataframe thead th {\n",
       "        text-align: right;\n",
       "    }\n",
       "</style>\n",
       "<table border=\"1\" class=\"dataframe\">\n",
       "  <thead>\n",
       "    <tr style=\"text-align: right;\">\n",
       "      <th></th>\n",
       "      <th>title</th>\n",
       "      <th>text</th>\n",
       "      <th>label</th>\n",
       "      <th>clean_text_tokens</th>\n",
       "      <th>clean_title_tokens</th>\n",
       "    </tr>\n",
       "  </thead>\n",
       "  <tbody>\n",
       "    <tr>\n",
       "      <th>0</th>\n",
       "      <td>Donald Trump Sends Out Embarrassing New Year’...</td>\n",
       "      <td>Donald Trump just couldn t wish all Americans ...</td>\n",
       "      <td>fake</td>\n",
       "      <td>[donald, trump, just, couldn, wish, all, ameri...</td>\n",
       "      <td>[donald, trump, sends, out, embarrassing, new,...</td>\n",
       "    </tr>\n",
       "    <tr>\n",
       "      <th>1</th>\n",
       "      <td>Drunk Bragging Trump Staffer Started Russian ...</td>\n",
       "      <td>House Intelligence Committee Chairman Devin Nu...</td>\n",
       "      <td>fake</td>\n",
       "      <td>[house, intelligence, committee, chairman, dev...</td>\n",
       "      <td>[drunk, bragging, trump, staffer, started, rus...</td>\n",
       "    </tr>\n",
       "    <tr>\n",
       "      <th>2</th>\n",
       "      <td>Sheriff David Clarke Becomes An Internet Joke...</td>\n",
       "      <td>On Friday, it was revealed that former Milwauk...</td>\n",
       "      <td>fake</td>\n",
       "      <td>[on, it, was, revealed, that, former, milwauke...</td>\n",
       "      <td>[sheriff, david, clarke, becomes, an, internet...</td>\n",
       "    </tr>\n",
       "    <tr>\n",
       "      <th>3</th>\n",
       "      <td>Trump Is So Obsessed He Even Has Obama’s Name...</td>\n",
       "      <td>On Christmas day, Donald Trump announced that ...</td>\n",
       "      <td>fake</td>\n",
       "      <td>[on, christmas, day, donald, trump, announced,...</td>\n",
       "      <td>[trump, is, so, obsessed, he, even, has, obama...</td>\n",
       "    </tr>\n",
       "    <tr>\n",
       "      <th>4</th>\n",
       "      <td>Pope Francis Just Called Out Donald Trump Dur...</td>\n",
       "      <td>Pope Francis used his annual Christmas Day mes...</td>\n",
       "      <td>fake</td>\n",
       "      <td>[pope, francis, used, his, annual, christmas, ...</td>\n",
       "      <td>[pope, francis, just, called, out, donald, tru...</td>\n",
       "    </tr>\n",
       "  </tbody>\n",
       "</table>\n",
       "</div>"
      ],
      "text/plain": [
       "                                               title  \\\n",
       "0   Donald Trump Sends Out Embarrassing New Year’...   \n",
       "1   Drunk Bragging Trump Staffer Started Russian ...   \n",
       "2   Sheriff David Clarke Becomes An Internet Joke...   \n",
       "3   Trump Is So Obsessed He Even Has Obama’s Name...   \n",
       "4   Pope Francis Just Called Out Donald Trump Dur...   \n",
       "\n",
       "                                                text label  \\\n",
       "0  Donald Trump just couldn t wish all Americans ...  fake   \n",
       "1  House Intelligence Committee Chairman Devin Nu...  fake   \n",
       "2  On Friday, it was revealed that former Milwauk...  fake   \n",
       "3  On Christmas day, Donald Trump announced that ...  fake   \n",
       "4  Pope Francis used his annual Christmas Day mes...  fake   \n",
       "\n",
       "                                   clean_text_tokens  \\\n",
       "0  [donald, trump, just, couldn, wish, all, ameri...   \n",
       "1  [house, intelligence, committee, chairman, dev...   \n",
       "2  [on, it, was, revealed, that, former, milwauke...   \n",
       "3  [on, christmas, day, donald, trump, announced,...   \n",
       "4  [pope, francis, used, his, annual, christmas, ...   \n",
       "\n",
       "                                  clean_title_tokens  \n",
       "0  [donald, trump, sends, out, embarrassing, new,...  \n",
       "1  [drunk, bragging, trump, staffer, started, rus...  \n",
       "2  [sheriff, david, clarke, becomes, an, internet...  \n",
       "3  [trump, is, so, obsessed, he, even, has, obama...  \n",
       "4  [pope, francis, just, called, out, donald, tru...  "
      ]
     },
     "execution_count": 6,
     "metadata": {},
     "output_type": "execute_result"
    }
   ],
   "source": [
    "df.head()"
   ]
  },
  {
   "cell_type": "code",
   "execution_count": 7,
   "id": "f63ceb41",
   "metadata": {},
   "outputs": [],
   "source": [
    "y = df.label\n",
    "X = df.drop('label', axis=1)"
   ]
  },
  {
   "cell_type": "code",
   "execution_count": 8,
   "id": "40e37d7b",
   "metadata": {},
   "outputs": [],
   "source": [
    "X_train, X_test, y_train, y_test = train_test_split(X, \n",
    "                                                    y,\n",
    "                                                   test_size = 0.2,\n",
    "                                                   random_state = RANDOM_STATE,\n",
    "                                                   stratify = y)"
   ]
  },
  {
   "cell_type": "code",
   "execution_count": 9,
   "id": "76b71cde",
   "metadata": {},
   "outputs": [
    {
     "data": {
      "text/plain": [
       "(30910, 4)"
      ]
     },
     "execution_count": 9,
     "metadata": {},
     "output_type": "execute_result"
    }
   ],
   "source": [
    "X_train.shape"
   ]
  },
  {
   "cell_type": "code",
   "execution_count": 10,
   "id": "9ac58497",
   "metadata": {},
   "outputs": [
    {
     "data": {
      "text/plain": [
       "(7728, 4)"
      ]
     },
     "execution_count": 10,
     "metadata": {},
     "output_type": "execute_result"
    }
   ],
   "source": [
    "X_test.shape"
   ]
  },
  {
   "cell_type": "code",
   "execution_count": 11,
   "id": "9be2dd61",
   "metadata": {},
   "outputs": [],
   "source": [
    "le = LabelEncoder()"
   ]
  },
  {
   "cell_type": "code",
   "execution_count": 12,
   "id": "15fc839c",
   "metadata": {},
   "outputs": [],
   "source": [
    "y_train_enc = le.fit_transform(y_train)"
   ]
  },
  {
   "cell_type": "code",
   "execution_count": 13,
   "id": "22246987",
   "metadata": {},
   "outputs": [],
   "source": [
    "y_test_enc = le.transform(y_test)\n"
   ]
  },
  {
   "cell_type": "code",
   "execution_count": 14,
   "id": "1a335284",
   "metadata": {},
   "outputs": [],
   "source": [
    "def train_and_eval_model(X_train, X_test, y_train_enc, y_test_enc, classes_,\n",
    "                        preprocessor, tokenizer, max_df=1.0, ngram_range = (1, 1),\n",
    "                        min_samples_split=2,\n",
    "                        max_depth=None):\n",
    "    \"\"\"\n",
    "    Train and Evaluate and Bag of Words Representation with a Random Forest\n",
    "    classifier.\n",
    "    \"\"\"\n",
    "    \n",
    "    pipeline = Pipeline([\n",
    "    ('bow',CountVectorizer(min_df = 5, \n",
    "                           preprocessor = preprocessor, \n",
    "                           tokenizer = tokenizer, \n",
    "                           max_df = max_df, \n",
    "                           ngram_range = ngram_range)),\n",
    "    ('tfidf', TfidfTransformer()),\n",
    "    ('classifier', RandomForestClassifier(n_jobs = -1, \n",
    "                                          random_state = RANDOM_STATE, \n",
    "                                          min_samples_split = min_samples_split, \n",
    "                                          max_depth = max_depth)),\n",
    "    ])\n",
    "    \n",
    "    pipeline.fit(X_train,y_train_enc)\n",
    "    \n",
    "    model_helper_functions.confustion_matrix_and_classification_report(pipeline, \n",
    "                                                X_train, \n",
    "                                                y_train_enc, \n",
    "                                                classes_, \n",
    "                                               'Training')\n",
    "\n",
    "    model_helper_functions.confustion_matrix_and_classification_report(pipeline, \n",
    "                                                X_test, \n",
    "                                                y_test_enc, \n",
    "                                                classes_,\n",
    "                                                'Test')\n",
    "    \n",
    "    return pipeline"
   ]
  },
  {
   "cell_type": "code",
   "execution_count": 17,
   "id": "89e6acb3",
   "metadata": {},
   "outputs": [],
   "source": [
    "# using expanded stopwords list from https://gist.github.com/sebleier/554280\n",
    "\n",
    "gist_file = open(r\"C:\\Users\\SHUBHAM KUMAR SINGH\\Desktop\\data\\gist_stopwords.txt\")\n",
    "try:\n",
    "    content = gist_file.read()\n",
    "    expanded_stopwords = content.split(\",\")\n",
    "finally:\n",
    "    gist_file.close()"
   ]
  },
  {
   "cell_type": "code",
   "execution_count": 18,
   "id": "e759ecb4",
   "metadata": {},
   "outputs": [],
   "source": [
    "expanded_stopwords.remove('via')"
   ]
  },
  {
   "cell_type": "code",
   "execution_count": 19,
   "id": "c2b5f154",
   "metadata": {},
   "outputs": [],
   "source": [
    "def lowercase_and_only_expanded_stopwords(doc):\n",
    "    \"\"\"Remove stopwords and lowercase tokens\"\"\"\n",
    "    stop_words = expanded_stopwords\n",
    "    return [token.lower() for token in doc if token.lower() in stop_words]"
   ]
  },
  {
   "cell_type": "code",
   "execution_count": 20,
   "id": "741db8db",
   "metadata": {},
   "outputs": [
    {
     "name": "stderr",
     "output_type": "stream",
     "text": [
      "C:\\Users\\SHUBHA~1\\AppData\\Local\\Temp/ipykernel_20016/1450276812.py:1: SettingWithCopyWarning: \n",
      "A value is trying to be set on a copy of a slice from a DataFrame.\n",
      "Try using .loc[row_indexer,col_indexer] = value instead\n",
      "\n",
      "See the caveats in the documentation: https://pandas.pydata.org/pandas-docs/stable/user_guide/indexing.html#returning-a-view-versus-a-copy\n",
      "  X_train['title_and_text'] = X_train['clean_title_tokens'] + X_train['clean_text_tokens']\n",
      "C:\\Users\\SHUBHA~1\\AppData\\Local\\Temp/ipykernel_20016/1450276812.py:2: SettingWithCopyWarning: \n",
      "A value is trying to be set on a copy of a slice from a DataFrame.\n",
      "Try using .loc[row_indexer,col_indexer] = value instead\n",
      "\n",
      "See the caveats in the documentation: https://pandas.pydata.org/pandas-docs/stable/user_guide/indexing.html#returning-a-view-versus-a-copy\n",
      "  X_test['title_and_text'] = X_test['clean_title_tokens'] + X_test['clean_text_tokens']\n"
     ]
    }
   ],
   "source": [
    "X_train['title_and_text'] = X_train['clean_title_tokens'] + X_train['clean_text_tokens']\n",
    "X_test['title_and_text'] = X_test['clean_title_tokens'] + X_test['clean_text_tokens']"
   ]
  },
  {
   "cell_type": "code",
   "execution_count": 22,
   "id": "5ab1b6c9",
   "metadata": {},
   "outputs": [
    {
     "name": "stdout",
     "output_type": "stream",
     "text": [
      "Classification Report for Training Set\n",
      "              precision    recall  f1-score   support\n",
      "\n",
      "        fake       0.97      0.97      0.97     13957\n",
      "        true       0.97      0.97      0.97     16953\n",
      "\n",
      "    accuracy                           0.97     30910\n",
      "   macro avg       0.97      0.97      0.97     30910\n",
      "weighted avg       0.97      0.97      0.97     30910\n",
      "\n"
     ]
    },
    {
     "data": {
      "image/png": "[encoded data removed]",
      "text/plain": [
       "<Figure size 432x288 with 2 Axes>"
      ]
     },
     "metadata": {
      "needs_background": "light"
     },
     "output_type": "display_data"
    },
    {
     "data": {
      "image/png": "[encoded data removed]",
      "text/plain": [
       "<Figure size 432x288 with 2 Axes>"
      ]
     },
     "metadata": {
      "needs_background": "light"
     },
     "output_type": "display_data"
    },
    {
     "name": "stdout",
     "output_type": "stream",
     "text": [
      "Classification Report for Test Set\n",
      "              precision    recall  f1-score   support\n",
      "\n",
      "        fake       0.95      0.93      0.94      3490\n",
      "        true       0.94      0.96      0.95      4238\n",
      "\n",
      "    accuracy                           0.94      7728\n",
      "   macro avg       0.95      0.94      0.94      7728\n",
      "weighted avg       0.94      0.94      0.94      7728\n",
      "\n"
     ]
    },
    {
     "data": {
      "image/png": "[encoded data removed]",
      "text/plain": [
       "<Figure size 432x288 with 2 Axes>"
      ]
     },
     "metadata": {
      "needs_background": "light"
     },
     "output_type": "display_data"
    },
    {
     "data": {
      "image/png": "[encoded data removed]",
      "text/plain": [
       "<Figure size 432x288 with 2 Axes>"
      ]
     },
     "metadata": {
      "needs_background": "light"
     },
     "output_type": "display_data"
    }
   ],
   "source": [
    "pipe_expanded_sw_no_via = train_and_eval_model(X_train['title_and_text'], \n",
    "                                                        X_test['title_and_text'],\n",
    "                                                        y_train_enc, \n",
    "                                                        y_test_enc, \n",
    "                                                        le.classes_, \n",
    "                                                        lowercase_and_only_expanded_stopwords, \n",
    "                                                        model_helper_functions.passthrough,\n",
    "                                                 min_samples_split = 0.005)\n"
   ]
  },
  {
   "cell_type": "code",
   "execution_count": 23,
   "id": "7962f4e6",
   "metadata": {},
   "outputs": [
    {
     "data": {
      "text/html": [
       "<div>\n",
       "<style scoped>\n",
       "    .dataframe tbody tr th:only-of-type {\n",
       "        vertical-align: middle;\n",
       "    }\n",
       "\n",
       "    .dataframe tbody tr th {\n",
       "        vertical-align: top;\n",
       "    }\n",
       "\n",
       "    .dataframe thead th {\n",
       "        text-align: right;\n",
       "    }\n",
       "</style>\n",
       "<table border=\"1\" class=\"dataframe\">\n",
       "  <thead>\n",
       "    <tr style=\"text-align: right;\">\n",
       "      <th></th>\n",
       "      <th>importance</th>\n",
       "    </tr>\n",
       "  </thead>\n",
       "  <tbody>\n",
       "    <tr>\n",
       "      <th>said</th>\n",
       "      <td>0.176569</td>\n",
       "    </tr>\n",
       "    <tr>\n",
       "      <th>on</th>\n",
       "      <td>0.063491</td>\n",
       "    </tr>\n",
       "    <tr>\n",
       "      <th>you</th>\n",
       "      <td>0.046638</td>\n",
       "    </tr>\n",
       "    <tr>\n",
       "      <th>just</th>\n",
       "      <td>0.041934</td>\n",
       "    </tr>\n",
       "    <tr>\n",
       "      <th>this</th>\n",
       "      <td>0.031555</td>\n",
       "    </tr>\n",
       "    <tr>\n",
       "      <th>here</th>\n",
       "      <td>0.029729</td>\n",
       "    </tr>\n",
       "    <tr>\n",
       "      <th>in</th>\n",
       "      <td>0.026031</td>\n",
       "    </tr>\n",
       "    <tr>\n",
       "      <th>is</th>\n",
       "      <td>0.024914</td>\n",
       "    </tr>\n",
       "    <tr>\n",
       "      <th>like</th>\n",
       "      <td>0.022202</td>\n",
       "    </tr>\n",
       "    <tr>\n",
       "      <th>didn</th>\n",
       "      <td>0.018394</td>\n",
       "    </tr>\n",
       "    <tr>\n",
       "      <th>its</th>\n",
       "      <td>0.018172</td>\n",
       "    </tr>\n",
       "    <tr>\n",
       "      <th>what</th>\n",
       "      <td>0.018057</td>\n",
       "    </tr>\n",
       "    <tr>\n",
       "      <th>actually</th>\n",
       "      <td>0.016149</td>\n",
       "    </tr>\n",
       "    <tr>\n",
       "      <th>even</th>\n",
       "      <td>0.015176</td>\n",
       "    </tr>\n",
       "    <tr>\n",
       "      <th>your</th>\n",
       "      <td>0.014968</td>\n",
       "    </tr>\n",
       "    <tr>\n",
       "      <th>know</th>\n",
       "      <td>0.013616</td>\n",
       "    </tr>\n",
       "    <tr>\n",
       "      <th>so</th>\n",
       "      <td>0.013124</td>\n",
       "    </tr>\n",
       "    <tr>\n",
       "      <th>us</th>\n",
       "      <td>0.012791</td>\n",
       "    </tr>\n",
       "    <tr>\n",
       "      <th>the</th>\n",
       "      <td>0.012636</td>\n",
       "    </tr>\n",
       "    <tr>\n",
       "      <th>i</th>\n",
       "      <td>0.012586</td>\n",
       "    </tr>\n",
       "    <tr>\n",
       "      <th>why</th>\n",
       "      <td>0.011569</td>\n",
       "    </tr>\n",
       "    <tr>\n",
       "      <th>really</th>\n",
       "      <td>0.009279</td>\n",
       "    </tr>\n",
       "    <tr>\n",
       "      <th>out</th>\n",
       "      <td>0.008929</td>\n",
       "    </tr>\n",
       "    <tr>\n",
       "      <th>all</th>\n",
       "      <td>0.007819</td>\n",
       "    </tr>\n",
       "    <tr>\n",
       "      <th>how</th>\n",
       "      <td>0.007724</td>\n",
       "    </tr>\n",
       "    <tr>\n",
       "      <th>would</th>\n",
       "      <td>0.007651</td>\n",
       "    </tr>\n",
       "    <tr>\n",
       "      <th>isn</th>\n",
       "      <td>0.007644</td>\n",
       "    </tr>\n",
       "    <tr>\n",
       "      <th>re</th>\n",
       "      <td>0.007269</td>\n",
       "    </tr>\n",
       "    <tr>\n",
       "      <th>these</th>\n",
       "      <td>0.006996</td>\n",
       "    </tr>\n",
       "    <tr>\n",
       "      <th>that</th>\n",
       "      <td>0.006444</td>\n",
       "    </tr>\n",
       "  </tbody>\n",
       "</table>\n",
       "</div>"
      ],
      "text/plain": [
       "          importance\n",
       "said        0.176569\n",
       "on          0.063491\n",
       "you         0.046638\n",
       "just        0.041934\n",
       "this        0.031555\n",
       "here        0.029729\n",
       "in          0.026031\n",
       "is          0.024914\n",
       "like        0.022202\n",
       "didn        0.018394\n",
       "its         0.018172\n",
       "what        0.018057\n",
       "actually    0.016149\n",
       "even        0.015176\n",
       "your        0.014968\n",
       "know        0.013616\n",
       "so          0.013124\n",
       "us          0.012791\n",
       "the         0.012636\n",
       "i           0.012586\n",
       "why         0.011569\n",
       "really      0.009279\n",
       "out         0.008929\n",
       "all         0.007819\n",
       "how         0.007724\n",
       "would       0.007651\n",
       "isn         0.007644\n",
       "re          0.007269\n",
       "these       0.006996\n",
       "that        0.006444"
      ]
     },
     "execution_count": 23,
     "metadata": {},
     "output_type": "execute_result"
    }
   ],
   "source": [
    "feat_imp_expanded_sw_no_via = pd.DataFrame(pipe_expanded_sw_no_via['classifier'].feature_importances_, \n",
    "                                       index = pipe_expanded_sw_no_via['bow'].get_feature_names(), \n",
    "                                       columns = ['importance']).sort_values('importance', \n",
    "                                                                             ascending=False)\n",
    "feat_imp_expanded_sw_no_via.head(30)"
   ]
  },
  {
   "cell_type": "code",
   "execution_count": 34,
   "id": "9184a127",
   "metadata": {},
   "outputs": [
    {
     "name": "stdout",
     "output_type": "stream",
     "text": [
      "Model directory already exists\n"
     ]
    }
   ],
   "source": [
    "try: \n",
    "    os.mkdir(MODEL_PATH)\n",
    "except FileExistsError:\n",
    "    print('Model directory already exists')\n",
    "    pass"
   ]
  },
  {
   "cell_type": "code",
   "execution_count": 35,
   "id": "e27fc58d",
   "metadata": {},
   "outputs": [],
   "source": [
    "if SAVE_MODEL:\n",
    "    pickle.dump(pipe_expanded_sw_no_via, open(MODEL_PATH + MODEL_FILE_NAME, 'wb'))"
   ]
  },
  {
   "cell_type": "code",
   "execution_count": null,
   "id": "f72e1380",
   "metadata": {},
   "outputs": [],
   "source": []
  }
 ],
 "metadata": {
  "kernelspec": {
   "display_name": "Python 3 (ipykernel)",
   "language": "python",
   "name": "python3"
  },
  "language_info": {
   "codemirror_mode": {
    "name": "ipython",
    "version": 3
   },
   "file_extension": ".py",
   "mimetype": "text/x-python",
   "name": "python",
   "nbconvert_exporter": "python",
   "pygments_lexer": "ipython3",
   "version": "3.9.7"
  }
 },
 "nbformat": 4,
 "nbformat_minor": 5
}
