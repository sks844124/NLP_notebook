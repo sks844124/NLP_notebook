{
 "cells": [
  {
   "cell_type": "code",
   "execution_count": 1,
   "id": "0821d755",
   "metadata": {},
   "outputs": [],
   "source": [
    "import pandas as pd\n",
    "import numpy as np\n",
    "from sklearn.ensemble import RandomForestClassifier\n",
    "from sklearn.model_selection import train_test_split\n",
    "from sklearn.feature_extraction.text import CountVectorizer, TfidfTransformer\n",
    "from sklearn.pipeline import Pipeline\n",
    "from sklearn.preprocessing import LabelEncoder\n",
    "from sklearn.metrics import classification_report, plot_confusion_matrix\n",
    "import matplotlib.pyplot as plt\n",
    "%matplotlib inline\n",
    "import ast\n",
    "from sklearn.metrics import precision_recall_curve, auc\n",
    "from sklearn.metrics import accuracy_score, f1_score, recall_score\n",
    "from sklearn.preprocessing import LabelBinarizer\n",
    "from nltk import word_tokenize          \n",
    "from nltk.stem import WordNetLemmatizer\n",
    "from nltk.corpus import stopwords\n",
    "import model_helper_functions\n",
    "from sklearn.model_selection import GridSearchCV\n",
    "import pickle\n",
    "import os"
   ]
  },
  {
   "cell_type": "code",
   "execution_count": 2,
   "id": "59eea1db",
   "metadata": {},
   "outputs": [],
   "source": [
    "DATA_PATH = r\"C:\\Users\\SHUBHAM KUMAR SINGH\\Desktop\\data\"\n",
    "RANDOM_STATE = 42\n",
    "pd.options.display.max_seq_items = 20\n",
    "pd.options.display.max_rows = 50"
   ]
  },
  {
   "cell_type": "code",
   "execution_count": 34,
   "id": "83059f7f",
   "metadata": {},
   "outputs": [],
   "source": [
    "SAVE_MODEL = True\n",
    "\n",
    "MODEL_PATH = r\"C:\\Users\\SHUBHAM KUMAR SINGH\\Desktop\\data\"\n",
    "MODEL_FILE_NAME = 'rf_tfidf_plus_guardian_model.sav'"
   ]
  },
  {
   "cell_type": "code",
   "execution_count": 4,
   "id": "53731590",
   "metadata": {},
   "outputs": [],
   "source": [
    "df = pd.read_csv(r\"C:\\Users\\SHUBHAM KUMAR SINGH\\Desktop\\data\\datanews_dataset_pre_processed.csv\", \n",
    "                 low_memory = False, \n",
    "                 usecols = ['title', 'text', 'label', 'clean_text_tokens', 'clean_title_tokens'])"
   ]
  },
  {
   "cell_type": "code",
   "execution_count": 6,
   "id": "5dd429fe",
   "metadata": {},
   "outputs": [],
   "source": [
    "df.clean_text_tokens = df.clean_text_tokens.map(ast.literal_eval)\n",
    "df.clean_title_tokens = df.clean_title_tokens.map(ast.literal_eval)"
   ]
  },
  {
   "cell_type": "code",
   "execution_count": 7,
   "id": "c179ed61",
   "metadata": {},
   "outputs": [
    {
     "data": {
      "text/html": [
       "<div>\n",
       "<style scoped>\n",
       "    .dataframe tbody tr th:only-of-type {\n",
       "        vertical-align: middle;\n",
       "    }\n",
       "\n",
       "    .dataframe tbody tr th {\n",
       "        vertical-align: top;\n",
       "    }\n",
       "\n",
       "    .dataframe thead th {\n",
       "        text-align: right;\n",
       "    }\n",
       "</style>\n",
       "<table border=\"1\" class=\"dataframe\">\n",
       "  <thead>\n",
       "    <tr style=\"text-align: right;\">\n",
       "      <th></th>\n",
       "      <th>title</th>\n",
       "      <th>text</th>\n",
       "      <th>label</th>\n",
       "      <th>clean_text_tokens</th>\n",
       "      <th>clean_title_tokens</th>\n",
       "    </tr>\n",
       "  </thead>\n",
       "  <tbody>\n",
       "    <tr>\n",
       "      <th>0</th>\n",
       "      <td>Donald Trump Sends Out Embarrassing New Year’...</td>\n",
       "      <td>Donald Trump just couldn t wish all Americans ...</td>\n",
       "      <td>fake</td>\n",
       "      <td>[donald, trump, just, couldn, wish, all, ameri...</td>\n",
       "      <td>[donald, trump, sends, out, embarrassing, new,...</td>\n",
       "    </tr>\n",
       "    <tr>\n",
       "      <th>1</th>\n",
       "      <td>Drunk Bragging Trump Staffer Started Russian ...</td>\n",
       "      <td>House Intelligence Committee Chairman Devin Nu...</td>\n",
       "      <td>fake</td>\n",
       "      <td>[house, intelligence, committee, chairman, dev...</td>\n",
       "      <td>[drunk, bragging, trump, staffer, started, rus...</td>\n",
       "    </tr>\n",
       "    <tr>\n",
       "      <th>2</th>\n",
       "      <td>Sheriff David Clarke Becomes An Internet Joke...</td>\n",
       "      <td>On Friday, it was revealed that former Milwauk...</td>\n",
       "      <td>fake</td>\n",
       "      <td>[on, it, was, revealed, that, former, milwauke...</td>\n",
       "      <td>[sheriff, david, clarke, becomes, an, internet...</td>\n",
       "    </tr>\n",
       "    <tr>\n",
       "      <th>3</th>\n",
       "      <td>Trump Is So Obsessed He Even Has Obama’s Name...</td>\n",
       "      <td>On Christmas day, Donald Trump announced that ...</td>\n",
       "      <td>fake</td>\n",
       "      <td>[on, christmas, day, donald, trump, announced,...</td>\n",
       "      <td>[trump, is, so, obsessed, he, even, has, obama...</td>\n",
       "    </tr>\n",
       "    <tr>\n",
       "      <th>4</th>\n",
       "      <td>Pope Francis Just Called Out Donald Trump Dur...</td>\n",
       "      <td>Pope Francis used his annual Christmas Day mes...</td>\n",
       "      <td>fake</td>\n",
       "      <td>[pope, francis, used, his, annual, christmas, ...</td>\n",
       "      <td>[pope, francis, just, called, out, donald, tru...</td>\n",
       "    </tr>\n",
       "  </tbody>\n",
       "</table>\n",
       "</div>"
      ],
      "text/plain": [
       "                                               title  \\\n",
       "0   Donald Trump Sends Out Embarrassing New Year’...   \n",
       "1   Drunk Bragging Trump Staffer Started Russian ...   \n",
       "2   Sheriff David Clarke Becomes An Internet Joke...   \n",
       "3   Trump Is So Obsessed He Even Has Obama’s Name...   \n",
       "4   Pope Francis Just Called Out Donald Trump Dur...   \n",
       "\n",
       "                                                text label  \\\n",
       "0  Donald Trump just couldn t wish all Americans ...  fake   \n",
       "1  House Intelligence Committee Chairman Devin Nu...  fake   \n",
       "2  On Friday, it was revealed that former Milwauk...  fake   \n",
       "3  On Christmas day, Donald Trump announced that ...  fake   \n",
       "4  Pope Francis used his annual Christmas Day mes...  fake   \n",
       "\n",
       "                                   clean_text_tokens  \\\n",
       "0  [donald, trump, just, couldn, wish, all, ameri...   \n",
       "1  [house, intelligence, committee, chairman, dev...   \n",
       "2  [on, it, was, revealed, that, former, milwauke...   \n",
       "3  [on, christmas, day, donald, trump, announced,...   \n",
       "4  [pope, francis, used, his, annual, christmas, ...   \n",
       "\n",
       "                                  clean_title_tokens  \n",
       "0  [donald, trump, sends, out, embarrassing, new,...  \n",
       "1  [drunk, bragging, trump, staffer, started, rus...  \n",
       "2  [sheriff, david, clarke, becomes, an, internet...  \n",
       "3  [trump, is, so, obsessed, he, even, has, obama...  \n",
       "4  [pope, francis, just, called, out, donald, tru...  "
      ]
     },
     "execution_count": 7,
     "metadata": {},
     "output_type": "execute_result"
    }
   ],
   "source": [
    "df.head()"
   ]
  },
  {
   "cell_type": "code",
   "execution_count": 8,
   "id": "668f0903",
   "metadata": {},
   "outputs": [],
   "source": [
    "df_guard = pd.read_csv(r\"C:\\Users\\SHUBHAM KUMAR SINGH\\Desktop\\data\\dataguardian_news_dataset_cleaned.csv\", \n",
    "                 low_memory = False)"
   ]
  },
  {
   "cell_type": "code",
   "execution_count": 9,
   "id": "fe4ca9c6",
   "metadata": {},
   "outputs": [],
   "source": [
    "df_guard.tt_tokens = df_guard.tt_tokens.map(ast.literal_eval)"
   ]
  },
  {
   "cell_type": "code",
   "execution_count": 10,
   "id": "1f2171fb",
   "metadata": {},
   "outputs": [],
   "source": [
    "df_fake = df[df.label == 'fake']"
   ]
  },
  {
   "cell_type": "code",
   "execution_count": 11,
   "id": "cbb49786",
   "metadata": {},
   "outputs": [],
   "source": [
    "df_true_og = df[df.label == 'true']\n"
   ]
  },
  {
   "cell_type": "code",
   "execution_count": 12,
   "id": "93593e28",
   "metadata": {},
   "outputs": [
    {
     "data": {
      "text/plain": [
       "8723.5"
      ]
     },
     "execution_count": 12,
     "metadata": {},
     "output_type": "execute_result"
    }
   ],
   "source": [
    "len(df_fake)/2\n"
   ]
  },
  {
   "cell_type": "code",
   "execution_count": 13,
   "id": "451ddba8",
   "metadata": {},
   "outputs": [],
   "source": [
    "df_true_og_sample = df_true_og.sample(8724, random_state = RANDOM_STATE)\n"
   ]
  },
  {
   "cell_type": "code",
   "execution_count": 14,
   "id": "13cbae85",
   "metadata": {},
   "outputs": [],
   "source": [
    "df_guard_sample = df_guard.sample(8723, random_state = RANDOM_STATE)\n"
   ]
  },
  {
   "cell_type": "code",
   "execution_count": 15,
   "id": "f49fd20e",
   "metadata": {},
   "outputs": [],
   "source": [
    "df_guard_sample['label'] = 'true'\n"
   ]
  },
  {
   "cell_type": "code",
   "execution_count": 16,
   "id": "6a1eef71",
   "metadata": {},
   "outputs": [],
   "source": [
    "df_true_og_sample['tt_tokens'] = df_true_og_sample['clean_title_tokens'] + df_true_og_sample['clean_text_tokens']\n"
   ]
  },
  {
   "cell_type": "code",
   "execution_count": 17,
   "id": "2aed0c2a",
   "metadata": {},
   "outputs": [
    {
     "name": "stderr",
     "output_type": "stream",
     "text": [
      "C:\\Users\\SHUBHA~1\\AppData\\Local\\Temp/ipykernel_18028/3469016795.py:1: SettingWithCopyWarning: \n",
      "A value is trying to be set on a copy of a slice from a DataFrame.\n",
      "Try using .loc[row_indexer,col_indexer] = value instead\n",
      "\n",
      "See the caveats in the documentation: https://pandas.pydata.org/pandas-docs/stable/user_guide/indexing.html#returning-a-view-versus-a-copy\n",
      "  df_fake['tt_tokens'] = df_fake['clean_title_tokens'] + df_fake['clean_text_tokens']\n"
     ]
    }
   ],
   "source": [
    "df_fake['tt_tokens'] = df_fake['clean_title_tokens'] + df_fake['clean_text_tokens']\n"
   ]
  },
  {
   "cell_type": "code",
   "execution_count": 18,
   "id": "9abcd1a3",
   "metadata": {},
   "outputs": [],
   "source": [
    "df_all = pd.concat([df_fake[['label', 'tt_tokens']], \n",
    "                         df_true_og_sample[['label', 'tt_tokens']], \n",
    "                        df_guard_sample[['label', 'tt_tokens']]], axis=0)\n"
   ]
  },
  {
   "cell_type": "code",
   "execution_count": 19,
   "id": "89908156",
   "metadata": {},
   "outputs": [],
   "source": [
    "y = df_all.label\n",
    "X = df_all.drop('label', axis=1)"
   ]
  },
  {
   "cell_type": "code",
   "execution_count": 20,
   "id": "b79fce69",
   "metadata": {},
   "outputs": [],
   "source": [
    "X_train, X_test, y_train, y_test = train_test_split(X, \n",
    "                                                    y,\n",
    "                                                   test_size = 0.2,\n",
    "                                                   random_state = RANDOM_STATE,\n",
    "                                                   stratify = y)"
   ]
  },
  {
   "cell_type": "code",
   "execution_count": 21,
   "id": "5e20d914",
   "metadata": {},
   "outputs": [
    {
     "data": {
      "text/plain": [
       "(27915, 1)"
      ]
     },
     "execution_count": 21,
     "metadata": {},
     "output_type": "execute_result"
    }
   ],
   "source": [
    "X_train.shape\n"
   ]
  },
  {
   "cell_type": "code",
   "execution_count": 22,
   "id": "32a928a6",
   "metadata": {},
   "outputs": [
    {
     "data": {
      "text/plain": [
       "(6979, 1)"
      ]
     },
     "execution_count": 22,
     "metadata": {},
     "output_type": "execute_result"
    }
   ],
   "source": [
    "X_test.shape\n"
   ]
  },
  {
   "cell_type": "code",
   "execution_count": 23,
   "id": "d131d358",
   "metadata": {},
   "outputs": [],
   "source": [
    "le = LabelEncoder()\n"
   ]
  },
  {
   "cell_type": "code",
   "execution_count": 24,
   "id": "3192ad6d",
   "metadata": {},
   "outputs": [],
   "source": [
    "y_train_enc = le.fit_transform(y_train)\n"
   ]
  },
  {
   "cell_type": "code",
   "execution_count": 25,
   "id": "30aa509c",
   "metadata": {},
   "outputs": [],
   "source": [
    "y_test_enc = le.transform(y_test)\n"
   ]
  },
  {
   "cell_type": "code",
   "execution_count": 26,
   "id": "c3225275",
   "metadata": {},
   "outputs": [],
   "source": [
    "def train_and_eval_model(X_train, X_test, y_train_enc, y_test_enc, classes_,\n",
    "                        preprocessor, tokenizer, max_df=1.0, ngram_range = (1, 1),\n",
    "                        min_samples_split=2,\n",
    "                        max_depth=None):\n",
    "    \"\"\"\n",
    "    Train and Evaluate and Bag of Words Representation with a Random Forest\n",
    "    classifier.\n",
    "    \"\"\"\n",
    "    \n",
    "    pipeline = Pipeline([\n",
    "    ('bow',CountVectorizer(min_df = 5, \n",
    "                           preprocessor = preprocessor, \n",
    "                           tokenizer = tokenizer, \n",
    "                           max_df = max_df, \n",
    "                           ngram_range = ngram_range)),\n",
    "    ('tfidf', TfidfTransformer()),\n",
    "    ('classifier', RandomForestClassifier(n_jobs = -1, \n",
    "                                          random_state = RANDOM_STATE, \n",
    "                                          min_samples_split = min_samples_split, \n",
    "                                          max_depth = max_depth)),\n",
    "    ])\n",
    "    \n",
    "    pipeline.fit(X_train,y_train_enc)\n",
    "    \n",
    "    model_helper_functions.confustion_matrix_and_classification_report(pipeline, \n",
    "                                                X_train, \n",
    "                                                y_train_enc, \n",
    "                                                classes_, \n",
    "                                               'Training')\n",
    "\n",
    "    model_helper_functions.confustion_matrix_and_classification_report(pipeline, \n",
    "                                                X_test, \n",
    "                                                y_test_enc, \n",
    "                                                classes_,\n",
    "                                                'Test')\n",
    "    \n",
    "    return pipeline"
   ]
  },
  {
   "cell_type": "code",
   "execution_count": 27,
   "id": "3d16c32d",
   "metadata": {},
   "outputs": [],
   "source": [
    "gist_file = open(r\"C:\\Users\\SHUBHAM KUMAR SINGH\\Desktop\\data\\gist_stopwords.txt\")\n",
    "try:\n",
    "    content = gist_file.read()\n",
    "    expanded_stopwords = content.split(\",\")\n",
    "finally:\n",
    "    gist_file.close()"
   ]
  },
  {
   "cell_type": "code",
   "execution_count": 28,
   "id": "9a0a0a0b",
   "metadata": {},
   "outputs": [],
   "source": [
    "expanded_stopwords.remove('via')\n"
   ]
  },
  {
   "cell_type": "code",
   "execution_count": 29,
   "id": "ea1eccc2",
   "metadata": {},
   "outputs": [],
   "source": [
    "expanded_stopwords.remove('eu')\n",
    "expanded_stopwords.remove('uk')"
   ]
  },
  {
   "cell_type": "code",
   "execution_count": 30,
   "id": "76b7fb47",
   "metadata": {},
   "outputs": [],
   "source": [
    "def lowercase_and_only_expanded_stopwords(doc):\n",
    "    \"\"\"Remove stopwords and lowercase tokens\"\"\"\n",
    "    stop_words = expanded_stopwords\n",
    "    return [token.lower() for token in doc if token.lower() in stop_words]"
   ]
  },
  {
   "cell_type": "code",
   "execution_count": 31,
   "id": "d65f07c0",
   "metadata": {},
   "outputs": [
    {
     "name": "stdout",
     "output_type": "stream",
     "text": [
      "Classification Report for Training Set\n",
      "              precision    recall  f1-score   support\n",
      "\n",
      "        fake       0.93      0.96      0.95     13957\n",
      "        true       0.96      0.92      0.94     13958\n",
      "\n",
      "    accuracy                           0.94     27915\n",
      "   macro avg       0.94      0.94      0.94     27915\n",
      "weighted avg       0.94      0.94      0.94     27915\n",
      "\n"
     ]
    },
    {
     "data": {
      "image/png": "[encoded data removed]",
      "text/plain": [
       "<Figure size 432x288 with 2 Axes>"
      ]
     },
     "metadata": {
      "needs_background": "light"
     },
     "output_type": "display_data"
    },
    {
     "data": {
      "image/png": "[encoded data removed]",
      "text/plain": [
       "<Figure size 432x288 with 2 Axes>"
      ]
     },
     "metadata": {
      "needs_background": "light"
     },
     "output_type": "display_data"
    },
    {
     "name": "stdout",
     "output_type": "stream",
     "text": [
      "Classification Report for Test Set\n",
      "              precision    recall  f1-score   support\n",
      "\n",
      "        fake       0.88      0.91      0.89      3490\n",
      "        true       0.90      0.88      0.89      3489\n",
      "\n",
      "    accuracy                           0.89      6979\n",
      "   macro avg       0.89      0.89      0.89      6979\n",
      "weighted avg       0.89      0.89      0.89      6979\n",
      "\n"
     ]
    },
    {
     "data": {
      "image/png": "[encoded data removed]",
      "text/plain": [
       "<Figure size 432x288 with 2 Axes>"
      ]
     },
     "metadata": {
      "needs_background": "light"
     },
     "output_type": "display_data"
    },
    {
     "data": {
      "image/png": "[encoded data removed]",
      "text/plain": [
       "<Figure size 432x288 with 2 Axes>"
      ]
     },
     "metadata": {
      "needs_background": "light"
     },
     "output_type": "display_data"
    }
   ],
   "source": [
    "pipe_expanded_sw_no_via = train_and_eval_model(X_train['tt_tokens'], \n",
    "                                                        X_test['tt_tokens'],\n",
    "                                                        y_train_enc, \n",
    "                                                        y_test_enc, \n",
    "                                                        le.classes_, \n",
    "                                                        lowercase_and_only_expanded_stopwords, \n",
    "                                                        model_helper_functions.passthrough,\n",
    "                                                 min_samples_split = 0.005)"
   ]
  },
  {
   "cell_type": "code",
   "execution_count": 32,
   "id": "596cb459",
   "metadata": {},
   "outputs": [
    {
     "data": {
      "text/html": [
       "<div>\n",
       "<style scoped>\n",
       "    .dataframe tbody tr th:only-of-type {\n",
       "        vertical-align: middle;\n",
       "    }\n",
       "\n",
       "    .dataframe tbody tr th {\n",
       "        vertical-align: top;\n",
       "    }\n",
       "\n",
       "    .dataframe thead th {\n",
       "        text-align: right;\n",
       "    }\n",
       "</style>\n",
       "<table border=\"1\" class=\"dataframe\">\n",
       "  <thead>\n",
       "    <tr style=\"text-align: right;\">\n",
       "      <th></th>\n",
       "      <th>importance</th>\n",
       "    </tr>\n",
       "  </thead>\n",
       "  <tbody>\n",
       "    <tr>\n",
       "      <th>said</th>\n",
       "      <td>0.134359</td>\n",
       "    </tr>\n",
       "    <tr>\n",
       "      <th>its</th>\n",
       "      <td>0.045391</td>\n",
       "    </tr>\n",
       "    <tr>\n",
       "      <th>the</th>\n",
       "      <td>0.040952</td>\n",
       "    </tr>\n",
       "    <tr>\n",
       "      <th>just</th>\n",
       "      <td>0.036174</td>\n",
       "    </tr>\n",
       "    <tr>\n",
       "      <th>you</th>\n",
       "      <td>0.032274</td>\n",
       "    </tr>\n",
       "    <tr>\n",
       "      <th>on</th>\n",
       "      <td>0.030297</td>\n",
       "    </tr>\n",
       "    <tr>\n",
       "      <th>this</th>\n",
       "      <td>0.026208</td>\n",
       "    </tr>\n",
       "    <tr>\n",
       "      <th>in</th>\n",
       "      <td>0.023002</td>\n",
       "    </tr>\n",
       "    <tr>\n",
       "      <th>like</th>\n",
       "      <td>0.021814</td>\n",
       "    </tr>\n",
       "    <tr>\n",
       "      <th>know</th>\n",
       "      <td>0.018277</td>\n",
       "    </tr>\n",
       "    <tr>\n",
       "      <th>even</th>\n",
       "      <td>0.017557</td>\n",
       "    </tr>\n",
       "    <tr>\n",
       "      <th>would</th>\n",
       "      <td>0.015259</td>\n",
       "    </tr>\n",
       "    <tr>\n",
       "      <th>could</th>\n",
       "      <td>0.013844</td>\n",
       "    </tr>\n",
       "    <tr>\n",
       "      <th>here</th>\n",
       "      <td>0.013403</td>\n",
       "    </tr>\n",
       "    <tr>\n",
       "      <th>actually</th>\n",
       "      <td>0.013384</td>\n",
       "    </tr>\n",
       "    <tr>\n",
       "      <th>which</th>\n",
       "      <td>0.012209</td>\n",
       "    </tr>\n",
       "    <tr>\n",
       "      <th>had</th>\n",
       "      <td>0.012103</td>\n",
       "    </tr>\n",
       "    <tr>\n",
       "      <th>doesn</th>\n",
       "      <td>0.011198</td>\n",
       "    </tr>\n",
       "    <tr>\n",
       "      <th>below</th>\n",
       "      <td>0.010877</td>\n",
       "    </tr>\n",
       "    <tr>\n",
       "      <th>didn</th>\n",
       "      <td>0.010868</td>\n",
       "    </tr>\n",
       "    <tr>\n",
       "      <th>what</th>\n",
       "      <td>0.009761</td>\n",
       "    </tr>\n",
       "    <tr>\n",
       "      <th>why</th>\n",
       "      <td>0.009671</td>\n",
       "    </tr>\n",
       "    <tr>\n",
       "      <th>isn</th>\n",
       "      <td>0.008769</td>\n",
       "    </tr>\n",
       "    <tr>\n",
       "      <th>re</th>\n",
       "      <td>0.008590</td>\n",
       "    </tr>\n",
       "    <tr>\n",
       "      <th>last</th>\n",
       "      <td>0.008530</td>\n",
       "    </tr>\n",
       "    <tr>\n",
       "      <th>will</th>\n",
       "      <td>0.008451</td>\n",
       "    </tr>\n",
       "    <tr>\n",
       "      <th>added</th>\n",
       "      <td>0.008014</td>\n",
       "    </tr>\n",
       "    <tr>\n",
       "      <th>is</th>\n",
       "      <td>0.007833</td>\n",
       "    </tr>\n",
       "    <tr>\n",
       "      <th>him</th>\n",
       "      <td>0.007769</td>\n",
       "    </tr>\n",
       "    <tr>\n",
       "      <th>so</th>\n",
       "      <td>0.007701</td>\n",
       "    </tr>\n",
       "  </tbody>\n",
       "</table>\n",
       "</div>"
      ],
      "text/plain": [
       "          importance\n",
       "said        0.134359\n",
       "its         0.045391\n",
       "the         0.040952\n",
       "just        0.036174\n",
       "you         0.032274\n",
       "on          0.030297\n",
       "this        0.026208\n",
       "in          0.023002\n",
       "like        0.021814\n",
       "know        0.018277\n",
       "even        0.017557\n",
       "would       0.015259\n",
       "could       0.013844\n",
       "here        0.013403\n",
       "actually    0.013384\n",
       "which       0.012209\n",
       "had         0.012103\n",
       "doesn       0.011198\n",
       "below       0.010877\n",
       "didn        0.010868\n",
       "what        0.009761\n",
       "why         0.009671\n",
       "isn         0.008769\n",
       "re          0.008590\n",
       "last        0.008530\n",
       "will        0.008451\n",
       "added       0.008014\n",
       "is          0.007833\n",
       "him         0.007769\n",
       "so          0.007701"
      ]
     },
     "execution_count": 32,
     "metadata": {},
     "output_type": "execute_result"
    }
   ],
   "source": [
    "feat_imp_expanded_sw_no_via = pd.DataFrame(pipe_expanded_sw_no_via['classifier'].feature_importances_, \n",
    "                                       index = pipe_expanded_sw_no_via['bow'].get_feature_names(), \n",
    "                                       columns = ['importance']).sort_values('importance', \n",
    "                                                                             ascending=False)\n",
    "feat_imp_expanded_sw_no_via.head(30)"
   ]
  },
  {
   "cell_type": "code",
   "execution_count": 33,
   "id": "43ac6d90",
   "metadata": {},
   "outputs": [
    {
     "name": "stdout",
     "output_type": "stream",
     "text": [
      "Model directory already exists\n"
     ]
    }
   ],
   "source": [
    "try: \n",
    "    os.mkdir(MODEL_PATH)\n",
    "except FileExistsError:\n",
    "    print('Model directory already exists')\n",
    "    pass"
   ]
  },
  {
   "cell_type": "code",
   "execution_count": 35,
   "id": "05b70023",
   "metadata": {},
   "outputs": [],
   "source": [
    "if SAVE_MODEL:\n",
    "    pickle.dump(pipe_expanded_sw_no_via, open(MODEL_PATH + MODEL_FILE_NAME, 'wb'))"
   ]
  },
  {
   "cell_type": "code",
   "execution_count": null,
   "id": "02d12288",
   "metadata": {},
   "outputs": [],
   "source": []
  }
 ],
 "metadata": {
  "kernelspec": {
   "display_name": "Python 3 (ipykernel)",
   "language": "python",
   "name": "python3"
  },
  "language_info": {
   "codemirror_mode": {
    "name": "ipython",
    "version": 3
   },
   "file_extension": ".py",
   "mimetype": "text/x-python",
   "name": "python",
   "nbconvert_exporter": "python",
   "pygments_lexer": "ipython3",
   "version": "3.9.7"
  }
 },
 "nbformat": 4,
 "nbformat_minor": 5
}
