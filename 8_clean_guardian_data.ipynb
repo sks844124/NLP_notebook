{
 "cells": [
  {
   "cell_type": "code",
   "execution_count": 1,
   "id": "d2ecc790",
   "metadata": {},
   "outputs": [],
   "source": [
    "import os\n",
    "import zipfile\n",
    "import pandas as pd\n",
    "import numpy as np\n",
    "from re import search\n",
    "import model_helper_functions\n",
    "import matplotlib.pyplot as plt\n",
    "%matplotlib inline"
   ]
  },
  {
   "cell_type": "code",
   "execution_count": 20,
   "id": "3f07386e",
   "metadata": {},
   "outputs": [],
   "source": [
    "DATA_PATH = r\"C:\\Users\\SHUBHAM KUMAR SINGH\\Desktop\\data\"\n",
    "CLEAN_DATA_FILE_NAME = 'guardian_news_dataset_cleaned.csv'\n",
    "\n",
    "SAVE_FILE = True"
   ]
  },
  {
   "cell_type": "code",
   "execution_count": 3,
   "id": "a3e0ef69",
   "metadata": {},
   "outputs": [],
   "source": [
    "df = pd.read_csv(r\"C:\\Users\\SHUBHAM KUMAR SINGH\\Desktop\\data\\combined_filtered.csv\")"
   ]
  },
  {
   "cell_type": "code",
   "execution_count": 4,
   "id": "10c3fb59",
   "metadata": {},
   "outputs": [
    {
     "data": {
      "text/html": [
       "<div>\n",
       "<style scoped>\n",
       "    .dataframe tbody tr th:only-of-type {\n",
       "        vertical-align: middle;\n",
       "    }\n",
       "\n",
       "    .dataframe tbody tr th {\n",
       "        vertical-align: top;\n",
       "    }\n",
       "\n",
       "    .dataframe thead th {\n",
       "        text-align: right;\n",
       "    }\n",
       "</style>\n",
       "<table border=\"1\" class=\"dataframe\">\n",
       "  <thead>\n",
       "    <tr style=\"text-align: right;\">\n",
       "      <th></th>\n",
       "      <th>Unnamed: 0</th>\n",
       "      <th>apiUrl</th>\n",
       "      <th>fields.bodyText</th>\n",
       "      <th>id</th>\n",
       "      <th>isHosted</th>\n",
       "      <th>pillarId</th>\n",
       "      <th>pillarName</th>\n",
       "      <th>sectionId</th>\n",
       "      <th>sectionName</th>\n",
       "      <th>type</th>\n",
       "      <th>webPublicationDate</th>\n",
       "      <th>webTitle</th>\n",
       "      <th>webUrl</th>\n",
       "      <th>filtered_bodyText</th>\n",
       "    </tr>\n",
       "  </thead>\n",
       "  <tbody>\n",
       "    <tr>\n",
       "      <th>0</th>\n",
       "      <td>0</td>\n",
       "      <td>https://content.guardianapis.com/technology/20...</td>\n",
       "      <td>A day after Barack Obama announced tough new s...</td>\n",
       "      <td>technology/2016/dec/31/russia-hacking-malware-...</td>\n",
       "      <td>False</td>\n",
       "      <td>pillar/news</td>\n",
       "      <td>News</td>\n",
       "      <td>technology</td>\n",
       "      <td>Technology</td>\n",
       "      <td>article</td>\n",
       "      <td>2016-12-31T16:34:02Z</td>\n",
       "      <td>US-Russia tensions rise as malware found at Ve...</td>\n",
       "      <td>https://www.theguardian.com/technology/2016/de...</td>\n",
       "      <td>['day', 'barack', 'obama', 'announced', 'tough...</td>\n",
       "    </tr>\n",
       "    <tr>\n",
       "      <th>1</th>\n",
       "      <td>1</td>\n",
       "      <td>https://content.guardianapis.com/technology/20...</td>\n",
       "      <td>A journalist was temporarily banned from Faceb...</td>\n",
       "      <td>technology/2016/dec/30/facebook-temporary-ban-...</td>\n",
       "      <td>False</td>\n",
       "      <td>pillar/news</td>\n",
       "      <td>News</td>\n",
       "      <td>technology</td>\n",
       "      <td>Technology</td>\n",
       "      <td>article</td>\n",
       "      <td>2016-12-30T21:22:06Z</td>\n",
       "      <td>Facebook temporarily bans author after he call...</td>\n",
       "      <td>https://www.theguardian.com/technology/2016/de...</td>\n",
       "      <td>['journalist', 'temporarily', 'banned', 'faceb...</td>\n",
       "    </tr>\n",
       "    <tr>\n",
       "      <th>2</th>\n",
       "      <td>2</td>\n",
       "      <td>https://content.guardianapis.com/technology/20...</td>\n",
       "      <td>Technology? Bah humbug: “I think we ought to g...</td>\n",
       "      <td>technology/2016/dec/30/donald-trump-technology...</td>\n",
       "      <td>False</td>\n",
       "      <td>pillar/news</td>\n",
       "      <td>News</td>\n",
       "      <td>technology</td>\n",
       "      <td>Technology</td>\n",
       "      <td>article</td>\n",
       "      <td>2016-12-30T08:30:28Z</td>\n",
       "      <td>Donald Trump is technology's befuddled (but da...</td>\n",
       "      <td>https://www.theguardian.com/technology/2016/de...</td>\n",
       "      <td>['technology', 'bah', 'humbug', 'think', 'ough...</td>\n",
       "    </tr>\n",
       "    <tr>\n",
       "      <th>3</th>\n",
       "      <td>3</td>\n",
       "      <td>https://content.guardianapis.com/technology/20...</td>\n",
       "      <td>While there were some good things in technolog...</td>\n",
       "      <td>technology/2016/dec/30/detonating-devices-and-...</td>\n",
       "      <td>False</td>\n",
       "      <td>pillar/news</td>\n",
       "      <td>News</td>\n",
       "      <td>technology</td>\n",
       "      <td>Technology</td>\n",
       "      <td>article</td>\n",
       "      <td>2016-12-30T07:00:26Z</td>\n",
       "      <td>Exploding phones and Snapchat clones: the bigg...</td>\n",
       "      <td>https://www.theguardian.com/technology/2016/de...</td>\n",
       "      <td>['good', 'things', 'technology', 'released', '...</td>\n",
       "    </tr>\n",
       "    <tr>\n",
       "      <th>4</th>\n",
       "      <td>4</td>\n",
       "      <td>https://content.guardianapis.com/technology/20...</td>\n",
       "      <td>The US Department of Homeland Security (DHS) a...</td>\n",
       "      <td>technology/2016/dec/29/fbi-dhs-russian-hacking...</td>\n",
       "      <td>False</td>\n",
       "      <td>pillar/news</td>\n",
       "      <td>News</td>\n",
       "      <td>technology</td>\n",
       "      <td>Technology</td>\n",
       "      <td>article</td>\n",
       "      <td>2016-12-29T22:19:53Z</td>\n",
       "      <td>FBI and Homeland Security detail Russian hacki...</td>\n",
       "      <td>https://www.theguardian.com/technology/2016/de...</td>\n",
       "      <td>['us', 'department', 'homeland', 'security', '...</td>\n",
       "    </tr>\n",
       "  </tbody>\n",
       "</table>\n",
       "</div>"
      ],
      "text/plain": [
       "   Unnamed: 0                                             apiUrl  \\\n",
       "0           0  https://content.guardianapis.com/technology/20...   \n",
       "1           1  https://content.guardianapis.com/technology/20...   \n",
       "2           2  https://content.guardianapis.com/technology/20...   \n",
       "3           3  https://content.guardianapis.com/technology/20...   \n",
       "4           4  https://content.guardianapis.com/technology/20...   \n",
       "\n",
       "                                     fields.bodyText  \\\n",
       "0  A day after Barack Obama announced tough new s...   \n",
       "1  A journalist was temporarily banned from Faceb...   \n",
       "2  Technology? Bah humbug: “I think we ought to g...   \n",
       "3  While there were some good things in technolog...   \n",
       "4  The US Department of Homeland Security (DHS) a...   \n",
       "\n",
       "                                                  id  isHosted     pillarId  \\\n",
       "0  technology/2016/dec/31/russia-hacking-malware-...     False  pillar/news   \n",
       "1  technology/2016/dec/30/facebook-temporary-ban-...     False  pillar/news   \n",
       "2  technology/2016/dec/30/donald-trump-technology...     False  pillar/news   \n",
       "3  technology/2016/dec/30/detonating-devices-and-...     False  pillar/news   \n",
       "4  technology/2016/dec/29/fbi-dhs-russian-hacking...     False  pillar/news   \n",
       "\n",
       "  pillarName   sectionId sectionName     type    webPublicationDate  \\\n",
       "0       News  technology  Technology  article  2016-12-31T16:34:02Z   \n",
       "1       News  technology  Technology  article  2016-12-30T21:22:06Z   \n",
       "2       News  technology  Technology  article  2016-12-30T08:30:28Z   \n",
       "3       News  technology  Technology  article  2016-12-30T07:00:26Z   \n",
       "4       News  technology  Technology  article  2016-12-29T22:19:53Z   \n",
       "\n",
       "                                            webTitle  \\\n",
       "0  US-Russia tensions rise as malware found at Ve...   \n",
       "1  Facebook temporarily bans author after he call...   \n",
       "2  Donald Trump is technology's befuddled (but da...   \n",
       "3  Exploding phones and Snapchat clones: the bigg...   \n",
       "4  FBI and Homeland Security detail Russian hacki...   \n",
       "\n",
       "                                              webUrl  \\\n",
       "0  https://www.theguardian.com/technology/2016/de...   \n",
       "1  https://www.theguardian.com/technology/2016/de...   \n",
       "2  https://www.theguardian.com/technology/2016/de...   \n",
       "3  https://www.theguardian.com/technology/2016/de...   \n",
       "4  https://www.theguardian.com/technology/2016/de...   \n",
       "\n",
       "                                   filtered_bodyText  \n",
       "0  ['day', 'barack', 'obama', 'announced', 'tough...  \n",
       "1  ['journalist', 'temporarily', 'banned', 'faceb...  \n",
       "2  ['technology', 'bah', 'humbug', 'think', 'ough...  \n",
       "3  ['good', 'things', 'technology', 'released', '...  \n",
       "4  ['us', 'department', 'homeland', 'security', '...  "
      ]
     },
     "execution_count": 4,
     "metadata": {},
     "output_type": "execute_result"
    }
   ],
   "source": [
    "df.head()"
   ]
  },
  {
   "cell_type": "code",
   "execution_count": 5,
   "id": "050d6d04",
   "metadata": {},
   "outputs": [
    {
     "name": "stdout",
     "output_type": "stream",
     "text": [
      "<class 'pandas.core.frame.DataFrame'>\n",
      "RangeIndex: 52900 entries, 0 to 52899\n",
      "Data columns (total 14 columns):\n",
      " #   Column              Non-Null Count  Dtype \n",
      "---  ------              --------------  ----- \n",
      " 0   Unnamed: 0          52900 non-null  int64 \n",
      " 1   apiUrl              52900 non-null  object\n",
      " 2   fields.bodyText     52470 non-null  object\n",
      " 3   id                  52900 non-null  object\n",
      " 4   isHosted            52900 non-null  bool  \n",
      " 5   pillarId            52900 non-null  object\n",
      " 6   pillarName          52900 non-null  object\n",
      " 7   sectionId           52900 non-null  object\n",
      " 8   sectionName         52900 non-null  object\n",
      " 9   type                52900 non-null  object\n",
      " 10  webPublicationDate  52900 non-null  object\n",
      " 11  webTitle            52900 non-null  object\n",
      " 12  webUrl              52900 non-null  object\n",
      " 13  filtered_bodyText   52900 non-null  object\n",
      "dtypes: bool(1), int64(1), object(12)\n",
      "memory usage: 5.3+ MB\n"
     ]
    }
   ],
   "source": [
    "df.info()\n"
   ]
  },
  {
   "cell_type": "code",
   "execution_count": 6,
   "id": "840c4785",
   "metadata": {},
   "outputs": [
    {
     "data": {
      "text/plain": [
       "Sport         20650\n",
       "Politics      12650\n",
       "Business      12000\n",
       "Technology     5050\n",
       "Culture        2550\n",
       "Name: sectionName, dtype: int64"
      ]
     },
     "execution_count": 6,
     "metadata": {},
     "output_type": "execute_result"
    }
   ],
   "source": [
    "df.sectionName.value_counts()\n"
   ]
  },
  {
   "cell_type": "code",
   "execution_count": 7,
   "id": "0389dc75",
   "metadata": {},
   "outputs": [],
   "source": [
    "df_politics = df[df.sectionName == 'Politics']\n"
   ]
  },
  {
   "cell_type": "code",
   "execution_count": 8,
   "id": "35d26cb3",
   "metadata": {},
   "outputs": [
    {
     "data": {
      "text/html": [
       "<div>\n",
       "<style scoped>\n",
       "    .dataframe tbody tr th:only-of-type {\n",
       "        vertical-align: middle;\n",
       "    }\n",
       "\n",
       "    .dataframe tbody tr th {\n",
       "        vertical-align: top;\n",
       "    }\n",
       "\n",
       "    .dataframe thead th {\n",
       "        text-align: right;\n",
       "    }\n",
       "</style>\n",
       "<table border=\"1\" class=\"dataframe\">\n",
       "  <thead>\n",
       "    <tr style=\"text-align: right;\">\n",
       "      <th></th>\n",
       "      <th>Unnamed: 0</th>\n",
       "      <th>apiUrl</th>\n",
       "      <th>fields.bodyText</th>\n",
       "      <th>id</th>\n",
       "      <th>isHosted</th>\n",
       "      <th>pillarId</th>\n",
       "      <th>pillarName</th>\n",
       "      <th>sectionId</th>\n",
       "      <th>sectionName</th>\n",
       "      <th>type</th>\n",
       "      <th>webPublicationDate</th>\n",
       "      <th>webTitle</th>\n",
       "      <th>webUrl</th>\n",
       "      <th>filtered_bodyText</th>\n",
       "    </tr>\n",
       "  </thead>\n",
       "  <tbody>\n",
       "    <tr>\n",
       "      <th>5050</th>\n",
       "      <td>0</td>\n",
       "      <td>https://content.guardianapis.com/politics/2016...</td>\n",
       "      <td>Theresa May has used her new year message to r...</td>\n",
       "      <td>politics/2016/dec/31/theresa-may-new-year-mess...</td>\n",
       "      <td>False</td>\n",
       "      <td>pillar/news</td>\n",
       "      <td>News</td>\n",
       "      <td>politics</td>\n",
       "      <td>Politics</td>\n",
       "      <td>article</td>\n",
       "      <td>2016-12-31T22:00:39Z</td>\n",
       "      <td>Theresa May’s new year message: I’ll fight  re...</td>\n",
       "      <td>https://www.theguardian.com/politics/2016/dec/...</td>\n",
       "      <td>['theresa', 'may', 'used', 'new', 'year', 'mes...</td>\n",
       "    </tr>\n",
       "    <tr>\n",
       "      <th>5051</th>\n",
       "      <td>1</td>\n",
       "      <td>https://content.guardianapis.com/politics/2016...</td>\n",
       "      <td>After a year of seismic shocks comes the prote...</td>\n",
       "      <td>politics/2016/dec/31/donald-trump-victory-prom...</td>\n",
       "      <td>False</td>\n",
       "      <td>pillar/news</td>\n",
       "      <td>News</td>\n",
       "      <td>politics</td>\n",
       "      <td>Politics</td>\n",
       "      <td>article</td>\n",
       "      <td>2016-12-31T20:43:09Z</td>\n",
       "      <td>Donald Trump victory sparks global women’s rig...</td>\n",
       "      <td>https://www.theguardian.com/politics/2016/dec/...</td>\n",
       "      <td>['year', 'seismic', 'shocks', 'comes', 'protes...</td>\n",
       "    </tr>\n",
       "    <tr>\n",
       "      <th>5052</th>\n",
       "      <td>2</td>\n",
       "      <td>https://content.guardianapis.com/politics/2016...</td>\n",
       "      <td>I am full of admiration for Phil Scraton, who ...</td>\n",
       "      <td>politics/2016/dec/30/family-chords-and-discord</td>\n",
       "      <td>False</td>\n",
       "      <td>pillar/news</td>\n",
       "      <td>News</td>\n",
       "      <td>politics</td>\n",
       "      <td>Politics</td>\n",
       "      <td>article</td>\n",
       "      <td>2016-12-30T17:12:20Z</td>\n",
       "      <td>Family chords and discord | Brief letters</td>\n",
       "      <td>https://www.theguardian.com/politics/2016/dec/...</td>\n",
       "      <td>['full', 'admiration', 'phil', 'scraton', 'ref...</td>\n",
       "    </tr>\n",
       "    <tr>\n",
       "      <th>5053</th>\n",
       "      <td>3</td>\n",
       "      <td>https://content.guardianapis.com/politics/2016...</td>\n",
       "      <td>The Tory chairman of the Commons foreign affai...</td>\n",
       "      <td>politics/2016/dec/30/tory-mp-crispin-blunt-que...</td>\n",
       "      <td>False</td>\n",
       "      <td>pillar/news</td>\n",
       "      <td>News</td>\n",
       "      <td>politics</td>\n",
       "      <td>Politics</td>\n",
       "      <td>article</td>\n",
       "      <td>2016-12-30T15:20:46Z</td>\n",
       "      <td>Tory MP Crispin Blunt questions PM's criticism...</td>\n",
       "      <td>https://www.theguardian.com/politics/2016/dec/...</td>\n",
       "      <td>['tory', 'chairman', 'commons', 'foreign', 'af...</td>\n",
       "    </tr>\n",
       "    <tr>\n",
       "      <th>5054</th>\n",
       "      <td>4</td>\n",
       "      <td>https://content.guardianapis.com/politics/2016...</td>\n",
       "      <td>Politician of the year – Nigel Farage We weren...</td>\n",
       "      <td>politics/2016/dec/30/man-of-2016-nigel-farage-...</td>\n",
       "      <td>False</td>\n",
       "      <td>pillar/news</td>\n",
       "      <td>News</td>\n",
       "      <td>politics</td>\n",
       "      <td>Politics</td>\n",
       "      <td>article</td>\n",
       "      <td>2016-12-30T14:29:28Z</td>\n",
       "      <td>Man of 2016? Nigel Farage – my alternative New...</td>\n",
       "      <td>https://www.theguardian.com/politics/2016/dec/...</td>\n",
       "      <td>['politician', 'year', 'nigel', 'farage', 'ove...</td>\n",
       "    </tr>\n",
       "  </tbody>\n",
       "</table>\n",
       "</div>"
      ],
      "text/plain": [
       "      Unnamed: 0                                             apiUrl  \\\n",
       "5050           0  https://content.guardianapis.com/politics/2016...   \n",
       "5051           1  https://content.guardianapis.com/politics/2016...   \n",
       "5052           2  https://content.guardianapis.com/politics/2016...   \n",
       "5053           3  https://content.guardianapis.com/politics/2016...   \n",
       "5054           4  https://content.guardianapis.com/politics/2016...   \n",
       "\n",
       "                                        fields.bodyText  \\\n",
       "5050  Theresa May has used her new year message to r...   \n",
       "5051  After a year of seismic shocks comes the prote...   \n",
       "5052  I am full of admiration for Phil Scraton, who ...   \n",
       "5053  The Tory chairman of the Commons foreign affai...   \n",
       "5054  Politician of the year – Nigel Farage We weren...   \n",
       "\n",
       "                                                     id  isHosted  \\\n",
       "5050  politics/2016/dec/31/theresa-may-new-year-mess...     False   \n",
       "5051  politics/2016/dec/31/donald-trump-victory-prom...     False   \n",
       "5052     politics/2016/dec/30/family-chords-and-discord     False   \n",
       "5053  politics/2016/dec/30/tory-mp-crispin-blunt-que...     False   \n",
       "5054  politics/2016/dec/30/man-of-2016-nigel-farage-...     False   \n",
       "\n",
       "         pillarId pillarName sectionId sectionName     type  \\\n",
       "5050  pillar/news       News  politics    Politics  article   \n",
       "5051  pillar/news       News  politics    Politics  article   \n",
       "5052  pillar/news       News  politics    Politics  article   \n",
       "5053  pillar/news       News  politics    Politics  article   \n",
       "5054  pillar/news       News  politics    Politics  article   \n",
       "\n",
       "        webPublicationDate                                           webTitle  \\\n",
       "5050  2016-12-31T22:00:39Z  Theresa May’s new year message: I’ll fight  re...   \n",
       "5051  2016-12-31T20:43:09Z  Donald Trump victory sparks global women’s rig...   \n",
       "5052  2016-12-30T17:12:20Z          Family chords and discord | Brief letters   \n",
       "5053  2016-12-30T15:20:46Z  Tory MP Crispin Blunt questions PM's criticism...   \n",
       "5054  2016-12-30T14:29:28Z  Man of 2016? Nigel Farage – my alternative New...   \n",
       "\n",
       "                                                 webUrl  \\\n",
       "5050  https://www.theguardian.com/politics/2016/dec/...   \n",
       "5051  https://www.theguardian.com/politics/2016/dec/...   \n",
       "5052  https://www.theguardian.com/politics/2016/dec/...   \n",
       "5053  https://www.theguardian.com/politics/2016/dec/...   \n",
       "5054  https://www.theguardian.com/politics/2016/dec/...   \n",
       "\n",
       "                                      filtered_bodyText  \n",
       "5050  ['theresa', 'may', 'used', 'new', 'year', 'mes...  \n",
       "5051  ['year', 'seismic', 'shocks', 'comes', 'protes...  \n",
       "5052  ['full', 'admiration', 'phil', 'scraton', 'ref...  \n",
       "5053  ['tory', 'chairman', 'commons', 'foreign', 'af...  \n",
       "5054  ['politician', 'year', 'nigel', 'farage', 'ove...  "
      ]
     },
     "execution_count": 8,
     "metadata": {},
     "output_type": "execute_result"
    }
   ],
   "source": [
    "df_politics.head()\n"
   ]
  },
  {
   "cell_type": "code",
   "execution_count": 9,
   "id": "cfc59592",
   "metadata": {},
   "outputs": [],
   "source": [
    "df_text_title = df_politics[['fields.bodyText', 'webTitle']]"
   ]
  },
  {
   "cell_type": "code",
   "execution_count": 10,
   "id": "4e98be43",
   "metadata": {},
   "outputs": [
    {
     "data": {
      "text/html": [
       "<div>\n",
       "<style scoped>\n",
       "    .dataframe tbody tr th:only-of-type {\n",
       "        vertical-align: middle;\n",
       "    }\n",
       "\n",
       "    .dataframe tbody tr th {\n",
       "        vertical-align: top;\n",
       "    }\n",
       "\n",
       "    .dataframe thead th {\n",
       "        text-align: right;\n",
       "    }\n",
       "</style>\n",
       "<table border=\"1\" class=\"dataframe\">\n",
       "  <thead>\n",
       "    <tr style=\"text-align: right;\">\n",
       "      <th></th>\n",
       "      <th>fields.bodyText</th>\n",
       "      <th>webTitle</th>\n",
       "    </tr>\n",
       "  </thead>\n",
       "  <tbody>\n",
       "    <tr>\n",
       "      <th>5050</th>\n",
       "      <td>Theresa May has used her new year message to r...</td>\n",
       "      <td>Theresa May’s new year message: I’ll fight  re...</td>\n",
       "    </tr>\n",
       "    <tr>\n",
       "      <th>5051</th>\n",
       "      <td>After a year of seismic shocks comes the prote...</td>\n",
       "      <td>Donald Trump victory sparks global women’s rig...</td>\n",
       "    </tr>\n",
       "    <tr>\n",
       "      <th>5052</th>\n",
       "      <td>I am full of admiration for Phil Scraton, who ...</td>\n",
       "      <td>Family chords and discord | Brief letters</td>\n",
       "    </tr>\n",
       "    <tr>\n",
       "      <th>5053</th>\n",
       "      <td>The Tory chairman of the Commons foreign affai...</td>\n",
       "      <td>Tory MP Crispin Blunt questions PM's criticism...</td>\n",
       "    </tr>\n",
       "    <tr>\n",
       "      <th>5054</th>\n",
       "      <td>Politician of the year – Nigel Farage We weren...</td>\n",
       "      <td>Man of 2016? Nigel Farage – my alternative New...</td>\n",
       "    </tr>\n",
       "  </tbody>\n",
       "</table>\n",
       "</div>"
      ],
      "text/plain": [
       "                                        fields.bodyText  \\\n",
       "5050  Theresa May has used her new year message to r...   \n",
       "5051  After a year of seismic shocks comes the prote...   \n",
       "5052  I am full of admiration for Phil Scraton, who ...   \n",
       "5053  The Tory chairman of the Commons foreign affai...   \n",
       "5054  Politician of the year – Nigel Farage We weren...   \n",
       "\n",
       "                                               webTitle  \n",
       "5050  Theresa May’s new year message: I’ll fight  re...  \n",
       "5051  Donald Trump victory sparks global women’s rig...  \n",
       "5052          Family chords and discord | Brief letters  \n",
       "5053  Tory MP Crispin Blunt questions PM's criticism...  \n",
       "5054  Man of 2016? Nigel Farage – my alternative New...  "
      ]
     },
     "execution_count": 10,
     "metadata": {},
     "output_type": "execute_result"
    }
   ],
   "source": [
    "df_text_title.head()\n"
   ]
  },
  {
   "cell_type": "code",
   "execution_count": 11,
   "id": "654d76d2",
   "metadata": {},
   "outputs": [],
   "source": [
    "df_clean = df_text_title.dropna()"
   ]
  },
  {
   "cell_type": "code",
   "execution_count": 12,
   "id": "b8c84867",
   "metadata": {},
   "outputs": [],
   "source": [
    "def show_hist_for_col(df, column, title):\n",
    "    \"\"\"\n",
    "    Display a histogram for a column in a dataframe, splitting the data by label.\n",
    "    \"\"\"\n",
    "    plt.figure(figsize=(16,8))\n",
    "    df[column].hist()\n",
    "    plt.title(title)\n",
    "    plt.show()"
   ]
  },
  {
   "cell_type": "code",
   "execution_count": 13,
   "id": "ae3d402b",
   "metadata": {},
   "outputs": [
    {
     "name": "stderr",
     "output_type": "stream",
     "text": [
      "C:\\Users\\SHUBHA~1\\AppData\\Local\\Temp/ipykernel_8352/1694191603.py:1: SettingWithCopyWarning: \n",
      "A value is trying to be set on a copy of a slice from a DataFrame.\n",
      "Try using .loc[row_indexer,col_indexer] = value instead\n",
      "\n",
      "See the caveats in the documentation: https://pandas.pydata.org/pandas-docs/stable/user_guide/indexing.html#returning-a-view-versus-a-copy\n",
      "  df_clean['caps_in_title'] = df_clean['webTitle'].apply(lambda title: sum(1 for char in title if char.isupper()))\n"
     ]
    }
   ],
   "source": [
    "df_clean['caps_in_title'] = df_clean['webTitle'].apply(lambda title: sum(1 for char in title if char.isupper()))\n"
   ]
  },
  {
   "cell_type": "code",
   "execution_count": 14,
   "id": "74a5c7ed",
   "metadata": {},
   "outputs": [
    {
     "name": "stderr",
     "output_type": "stream",
     "text": [
      "C:\\Users\\SHUBHA~1\\AppData\\Local\\Temp/ipykernel_8352/3219710222.py:1: SettingWithCopyWarning: \n",
      "A value is trying to be set on a copy of a slice from a DataFrame.\n",
      "Try using .loc[row_indexer,col_indexer] = value instead\n",
      "\n",
      "See the caveats in the documentation: https://pandas.pydata.org/pandas-docs/stable/user_guide/indexing.html#returning-a-view-versus-a-copy\n",
      "  df_clean['title_len'] = df_clean['webTitle'].apply(len)\n"
     ]
    }
   ],
   "source": [
    "df_clean['title_len'] = df_clean['webTitle'].apply(len)"
   ]
  },
  {
   "cell_type": "code",
   "execution_count": 15,
   "id": "8c133c12",
   "metadata": {},
   "outputs": [
    {
     "name": "stderr",
     "output_type": "stream",
     "text": [
      "C:\\Users\\SHUBHA~1\\AppData\\Local\\Temp/ipykernel_8352/888848527.py:1: SettingWithCopyWarning: \n",
      "A value is trying to be set on a copy of a slice from a DataFrame.\n",
      "Try using .loc[row_indexer,col_indexer] = value instead\n",
      "\n",
      "See the caveats in the documentation: https://pandas.pydata.org/pandas-docs/stable/user_guide/indexing.html#returning-a-view-versus-a-copy\n",
      "  df_clean['norm_caps_in_title'] = df_clean['caps_in_title'] / df_clean['title_len']\n"
     ]
    }
   ],
   "source": [
    "df_clean['norm_caps_in_title'] = df_clean['caps_in_title'] / df_clean['title_len']\n"
   ]
  },
  {
   "cell_type": "code",
   "execution_count": 16,
   "id": "3e4f46f2",
   "metadata": {},
   "outputs": [
    {
     "data": {
      "image/png": "[encoded data removed]",
      "text/plain": [
       "<Figure size 1152x576 with 1 Axes>"
      ]
     },
     "metadata": {
      "needs_background": "light"
     },
     "output_type": "display_data"
    }
   ],
   "source": [
    "show_hist_for_col(df_clean, 'norm_caps_in_title', 'Percentage of Capitals in Title')\n"
   ]
  },
  {
   "cell_type": "code",
   "execution_count": 17,
   "id": "2bad6285",
   "metadata": {},
   "outputs": [
    {
     "name": "stderr",
     "output_type": "stream",
     "text": [
      "C:\\Users\\SHUBHAM KUMAR SINGH\\anaconda3\\lib\\site-packages\\pandas\\core\\frame.py:4906: SettingWithCopyWarning: \n",
      "A value is trying to be set on a copy of a slice from a DataFrame\n",
      "\n",
      "See the caveats in the documentation: https://pandas.pydata.org/pandas-docs/stable/user_guide/indexing.html#returning-a-view-versus-a-copy\n",
      "  return super().drop(\n"
     ]
    }
   ],
   "source": [
    "# remove the columns relating to the number of capitals in the title\n",
    "df_clean.drop(['caps_in_title', 'title_len', 'norm_caps_in_title'], axis=1, inplace=True)"
   ]
  },
  {
   "cell_type": "code",
   "execution_count": 18,
   "id": "fe2f3103",
   "metadata": {},
   "outputs": [
    {
     "name": "stderr",
     "output_type": "stream",
     "text": [
      "C:\\Users\\SHUBHA~1\\AppData\\Local\\Temp/ipykernel_8352/4207104979.py:1: SettingWithCopyWarning: \n",
      "A value is trying to be set on a copy of a slice from a DataFrame.\n",
      "Try using .loc[row_indexer,col_indexer] = value instead\n",
      "\n",
      "See the caveats in the documentation: https://pandas.pydata.org/pandas-docs/stable/user_guide/indexing.html#returning-a-view-versus-a-copy\n",
      "  df_clean['tt_tokens'] = df_clean.apply(lambda row: model_helper_functions.tokenize_and_normalize_title_and_text(row['webTitle'],\n"
     ]
    }
   ],
   "source": [
    "df_clean['tt_tokens'] = df_clean.apply(lambda row: model_helper_functions.tokenize_and_normalize_title_and_text(row['webTitle'],\n",
    "                                                                                          row['fields.bodyText']), axis=1)"
   ]
  },
  {
   "cell_type": "code",
   "execution_count": 19,
   "id": "e9023ad2",
   "metadata": {},
   "outputs": [
    {
     "data": {
      "text/html": [
       "<div>\n",
       "<style scoped>\n",
       "    .dataframe tbody tr th:only-of-type {\n",
       "        vertical-align: middle;\n",
       "    }\n",
       "\n",
       "    .dataframe tbody tr th {\n",
       "        vertical-align: top;\n",
       "    }\n",
       "\n",
       "    .dataframe thead th {\n",
       "        text-align: right;\n",
       "    }\n",
       "</style>\n",
       "<table border=\"1\" class=\"dataframe\">\n",
       "  <thead>\n",
       "    <tr style=\"text-align: right;\">\n",
       "      <th></th>\n",
       "      <th>fields.bodyText</th>\n",
       "      <th>webTitle</th>\n",
       "      <th>tt_tokens</th>\n",
       "    </tr>\n",
       "  </thead>\n",
       "  <tbody>\n",
       "    <tr>\n",
       "      <th>5050</th>\n",
       "      <td>Theresa May has used her new year message to r...</td>\n",
       "      <td>Theresa May’s new year message: I’ll fight  re...</td>\n",
       "      <td>[theresa, new, year, message, i, ll, fight, re...</td>\n",
       "    </tr>\n",
       "    <tr>\n",
       "      <th>5051</th>\n",
       "      <td>After a year of seismic shocks comes the prote...</td>\n",
       "      <td>Donald Trump victory sparks global women’s rig...</td>\n",
       "      <td>[donald, trump, victory, sparks, global, women...</td>\n",
       "    </tr>\n",
       "    <tr>\n",
       "      <th>5052</th>\n",
       "      <td>I am full of admiration for Phil Scraton, who ...</td>\n",
       "      <td>Family chords and discord | Brief letters</td>\n",
       "      <td>[family, chords, and, discord, brief, letters,...</td>\n",
       "    </tr>\n",
       "    <tr>\n",
       "      <th>5053</th>\n",
       "      <td>The Tory chairman of the Commons foreign affai...</td>\n",
       "      <td>Tory MP Crispin Blunt questions PM's criticism...</td>\n",
       "      <td>[tory, MP, crispin, blunt, questions, pm, crit...</td>\n",
       "    </tr>\n",
       "    <tr>\n",
       "      <th>5054</th>\n",
       "      <td>Politician of the year – Nigel Farage We weren...</td>\n",
       "      <td>Man of 2016? Nigel Farage – my alternative New...</td>\n",
       "      <td>[man, of, nigel, farage, my, alternative, new,...</td>\n",
       "    </tr>\n",
       "  </tbody>\n",
       "</table>\n",
       "</div>"
      ],
      "text/plain": [
       "                                        fields.bodyText  \\\n",
       "5050  Theresa May has used her new year message to r...   \n",
       "5051  After a year of seismic shocks comes the prote...   \n",
       "5052  I am full of admiration for Phil Scraton, who ...   \n",
       "5053  The Tory chairman of the Commons foreign affai...   \n",
       "5054  Politician of the year – Nigel Farage We weren...   \n",
       "\n",
       "                                               webTitle  \\\n",
       "5050  Theresa May’s new year message: I’ll fight  re...   \n",
       "5051  Donald Trump victory sparks global women’s rig...   \n",
       "5052          Family chords and discord | Brief letters   \n",
       "5053  Tory MP Crispin Blunt questions PM's criticism...   \n",
       "5054  Man of 2016? Nigel Farage – my alternative New...   \n",
       "\n",
       "                                              tt_tokens  \n",
       "5050  [theresa, new, year, message, i, ll, fight, re...  \n",
       "5051  [donald, trump, victory, sparks, global, women...  \n",
       "5052  [family, chords, and, discord, brief, letters,...  \n",
       "5053  [tory, MP, crispin, blunt, questions, pm, crit...  \n",
       "5054  [man, of, nigel, farage, my, alternative, new,...  "
      ]
     },
     "execution_count": 19,
     "metadata": {},
     "output_type": "execute_result"
    }
   ],
   "source": [
    "df_clean.head()"
   ]
  },
  {
   "cell_type": "code",
   "execution_count": 21,
   "id": "c192b593",
   "metadata": {},
   "outputs": [],
   "source": [
    "if SAVE_FILE:\n",
    "    df_clean.to_csv(DATA_PATH + CLEAN_DATA_FILE_NAME, index=False)"
   ]
  },
  {
   "cell_type": "code",
   "execution_count": null,
   "id": "2c4cc14a",
   "metadata": {},
   "outputs": [],
   "source": []
  }
 ],
 "metadata": {
  "kernelspec": {
   "display_name": "Python 3 (ipykernel)",
   "language": "python",
   "name": "python3"
  },
  "language_info": {
   "codemirror_mode": {
    "name": "ipython",
    "version": 3
   },
   "file_extension": ".py",
   "mimetype": "text/x-python",
   "name": "python",
   "nbconvert_exporter": "python",
   "pygments_lexer": "ipython3",
   "version": "3.9.7"
  }
 },
 "nbformat": 4,
 "nbformat_minor": 5
}
